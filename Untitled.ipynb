{
 "cells": [
  {
   "cell_type": "code",
   "execution_count": 61,
   "id": "97a2d129-cc46-47c9-8c7c-16ca2a275795",
   "metadata": {},
   "outputs": [
    {
     "name": "stdout",
     "output_type": "stream",
     "text": [
      "1000000\n",
      "1.9995881401410096\n",
      "inf\n"
     ]
    }
   ],
   "source": [
    "import numpy as np\n",
    "def prod_means(n):\n",
    "    values = np.random.random(n)* 2 + 1\n",
    "    ari_mean = np.mean(values)\n",
    "    geo_mean = np.prod(values)** (1/n)\n",
    "    return ari_mean ,geo_mean\n",
    "    \n",
    "nums = [10,100,1000,10000,100000,1000000]\n",
    "for n in nums:\n",
    "    ari_mean ,geo_mean = prod_means(n)\n",
    "print(n)\n",
    "print(ari_mean)\n",
    "print(geo_mean)"
   ]
  },
  {
   "cell_type": "code",
   "execution_count": 5,
   "id": "077d42ff-5a3a-49fa-b8f9-d56d1ef20193",
   "metadata": {},
   "outputs": [
    {
     "name": "stdout",
     "output_type": "stream",
     "text": [
      "n: 10, Arithmetic Mean: 2.240, Geometric Mean: 2.142\n",
      "n: 100, Arithmetic Mean: 2.077, Geometric Mean: 1.977\n",
      "n: 1000, Arithmetic Mean: 2.007, Geometric Mean: 1.922\n",
      "n: 10000, Arithmetic Mean: 2.000, Geometric Mean: inf\n",
      "n: 100000, Arithmetic Mean: 1.999, Geometric Mean: inf\n",
      "n: 1000000, Arithmetic Mean: 2.000, Geometric Mean: inf\n"
     ]
    }
   ],
   "source": [
    "import numpy as np\n",
    "\n",
    "def means_(n):\n",
    "    x = np.random.random(n)* 2 + 1\n",
    "    ari_mean = np.mean(x)\n",
    "    geo_mean = np.prod(x) ** (1 / n)\n",
    "    \n",
    "    return ari_mean, geo_mean\n",
    "nums = [10, 100, 1000, 10000, 100000, 1000000]\n",
    "for n in nums:\n",
    "    ari_mean, geo_mean = means_(n)\n",
    "    print(f'n: {n}, Arithmetic Mean: {ari_mean:.3f}, Geometric Mean: {geo_mean:.3f}')"
   ]
  },
  {
   "cell_type": "code",
   "execution_count": 29,
   "id": "54c14e59-5655-494e-aeae-284518fba395",
   "metadata": {},
   "outputs": [
    {
     "name": "stdout",
     "output_type": "stream",
     "text": [
      "n: 10, Arithmetic Mean: 0.612044, Geometric Mean: 0.999998\n"
     ]
    }
   ],
   "source": [
    "print(f'n: {10}, Arithmetic Mean: {ari_mean:.6f}, Geometric Mean: {geo_mean:.6f}')"
   ]
  },
  {
   "cell_type": "code",
   "execution_count": 30,
   "id": "ba7a12c4-600e-4ccf-b6e4-b3bc2e0dfc98",
   "metadata": {},
   "outputs": [
    {
     "name": "stdout",
     "output_type": "stream",
     "text": [
      "n: 100, Arithmetic Mean: 0.612044, Geometric Mean: 0.999998\n"
     ]
    }
   ],
   "source": [
    "print(f'n: {100}, Arithmetic Mean: {ari_mean:.6f}, Geometric Mean: {geo_mean:.6f}')"
   ]
  },
  {
   "cell_type": "code",
   "execution_count": 35,
   "id": "ac4160bb-bd8a-43a7-a096-1e8537a6f230",
   "metadata": {},
   "outputs": [
    {
     "name": "stdout",
     "output_type": "stream",
     "text": [
      "For n = 10:\n",
      "Arithmetic Mean: 2.0172293554112906\n",
      "Geometric Mean: 1.8947889626651957\n",
      "---\n",
      "For n = 100:\n",
      "Arithmetic Mean: 2.0207539044134664\n",
      "Geometric Mean: 1.9332136306538459\n",
      "---\n",
      "For n = 1000:\n",
      "Arithmetic Mean: 1.986507702711001\n",
      "Geometric Mean: 1.8952351557655007\n",
      "---\n",
      "For n = 10000:\n",
      "Arithmetic Mean: 1.9957433165833838\n",
      "Geometric Mean: inf\n",
      "---\n",
      "For n = 100000:\n",
      "Arithmetic Mean: 2.002594282824157\n",
      "Geometric Mean: inf\n",
      "---\n",
      "For n = 1000000:\n",
      "Arithmetic Mean: 1.9995246239388262\n",
      "Geometric Mean: inf\n",
      "---\n"
     ]
    }
   ],
   "source": [
    "import numpy as np\n",
    "\n",
    "# Define the values of n\n",
    "ns = [10, 100, 1000, 10000, 100000, 1000000]\n",
    "\n",
    "# Function to compute geometric mean\n",
    "def geometric_mean(nums):\n",
    "    product = np.prod(nums)\n",
    "    n = len(nums)\n",
    "    return product**(1/n)\n",
    "\n",
    "# Loop over each value of n\n",
    "for n in ns:\n",
    "    # Generate n random numbers in the interval [1, 3)\n",
    "    random_numbers = np.random.uniform(1, 3, n)\n",
    "    \n",
    "    # Compute arithmetic mean\n",
    "    arithmetic_mean = np.mean(random_numbers)\n",
    "    \n",
    "    # Compute geometric mean\n",
    "    geometric_mean_value = geometric_mean(random_numbers)\n",
    "    \n",
    "    # Print results\n",
    "    print(f\"For n = {n}:\")\n",
    "    print(f\"Arithmetic Mean: {arithmetic_mean}\")\n",
    "    print(f\"Geometric Mean: {geometric_mean_value}\")\n",
    "    print(\"---\")"
   ]
  },
  {
   "cell_type": "code",
   "execution_count": 62,
   "id": "79c570d5-ea1f-4116-8746-592aeb460c8c",
   "metadata": {},
   "outputs": [
    {
     "name": "stdout",
     "output_type": "stream",
     "text": [
      "1000000\n",
      "2.000000223871797\n",
      "inf\n"
     ]
    }
   ],
   "source": [
    "import numpy as np\n",
    "def prod_means(n):\n",
    "    values = np.random.random(n)* 2 + 1\n",
    "    ari_mean = np.mean(values)\n",
    "    geo_mean = np.prod(values)** (1/n)\n",
    "    return ari_mean ,geo_mean\n",
    "    \n",
    "nums = [10,100,1000,10000,100000,1000000]\n",
    "for n in nums:\n",
    "    ari_mean ,geo_mean = prod_means(n)\n",
    "print(n)\n",
    "print(ari_mean)\n",
    "print(geo_mean)"
   ]
  },
  {
   "cell_type": "code",
   "execution_count": null,
   "id": "a0a26f1b-d0fe-487a-b680-94a3f36094f9",
   "metadata": {},
   "outputs": [],
   "source": []
  }
 ],
 "metadata": {
  "kernelspec": {
   "display_name": "Python 3 (ipykernel)",
   "language": "python",
   "name": "python3"
  },
  "language_info": {
   "codemirror_mode": {
    "name": "ipython",
    "version": 3
   },
   "file_extension": ".py",
   "mimetype": "text/x-python",
   "name": "python",
   "nbconvert_exporter": "python",
   "pygments_lexer": "ipython3",
   "version": "3.11.7"
  }
 },
 "nbformat": 4,
 "nbformat_minor": 5
}
